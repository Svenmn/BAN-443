{
  "nbformat": 4,
  "nbformat_minor": 0,
  "metadata": {
    "colab": {
      "provenance": [],
      "collapsed_sections": [
        "xYkn-Nkm8HuS",
        "aZuv8GG68Kz9",
        "uomvHHY2HiiY",
        "yyUhURxqXTh2"
      ],
      "authorship_tag": "ABX9TyMjM/MvaVOsuCN59tjxuWfo",
      "include_colab_link": true
    },
    "kernelspec": {
      "name": "python3",
      "display_name": "Python 3"
    },
    "language_info": {
      "name": "python"
    }
  },
  "cells": [
    {
      "cell_type": "markdown",
      "metadata": {
        "id": "view-in-github",
        "colab_type": "text"
      },
      "source": [
        "<a href=\"https://colab.research.google.com/github/Svenmn/BAN-443/blob/main/StortingetAI.ipynb\" target=\"_parent\"><img src=\"https://colab.research.google.com/assets/colab-badge.svg\" alt=\"Open In Colab\"/></a>"
      ]
    },
    {
      "cell_type": "markdown",
      "source": [
        "# **Package Import**"
      ],
      "metadata": {
        "id": "xYkn-Nkm8HuS"
      }
    },
    {
      "cell_type": "code",
      "execution_count": null,
      "metadata": {
        "id": "G2tfN_Catpz4"
      },
      "outputs": [],
      "source": [
        "## Import package\n",
        "import requests\n",
        "import pandas as pd\n",
        "from google.colab import userdata\n",
        "import matplotlib.pyplot as plt\n",
        "import json\n",
        "from bs4 import BeautifulSoup\n",
        "import xml.etree.ElementTree as ET\n",
        "import io\n",
        "import json\n",
        "import logging\n",
        "import openai\n",
        "from openai import AzureOpenAI\n",
        "\n"
      ]
    },
    {
      "cell_type": "markdown",
      "source": [
        "If you get an error, make sure the packages are installed"
      ],
      "metadata": {
        "id": "uxPOhNhfN16s"
      }
    },
    {
      "cell_type": "markdown",
      "source": [
        "To install packages type the following: pip install \"name of package\""
      ],
      "metadata": {
        "id": "xTqAWG9jN7LI"
      }
    },
    {
      "cell_type": "markdown",
      "source": [
        "# **Importing the Data from the Stortinget API**\n",
        "\n",
        "\n",
        "---\n",
        "\n"
      ],
      "metadata": {
        "id": "aZuv8GG68Kz9"
      }
    },
    {
      "cell_type": "code",
      "source": [
        "response = requests.get(\"https://data.stortinget.no/eksport/sporretimesporsmal?sesjonid=2022-2023\") #The API link has a date selector in this case 2022-2023, this can be altered\n",
        "\n",
        "data = response.text\n",
        "tree = ET.parse(io.StringIO(data))\n",
        "root = tree.getroot()\n",
        "\n"
      ],
      "metadata": {
        "id": "iz9WoYgq6_kh"
      },
      "execution_count": null,
      "outputs": []
    },
    {
      "cell_type": "markdown",
      "source": [
        "Parsing the data"
      ],
      "metadata": {
        "id": "tlYgYnRh8ODI"
      }
    },
    {
      "cell_type": "code",
      "source": [
        "# Define the namespace\n",
        "ns = {'ns': 'http://data.stortinget.no'}\n",
        "\n",
        "# Extract the <tittel> elements (Questions)\n",
        "questions = [sporsmal.find('ns:tittel', ns).text for sporsmal in root.findall('.//ns:sporsmal', ns)]\n",
        "\n",
        "# Extract the <fornavn> and <etternavn> elements from <sporsmal_fra> (Question from)\n",
        "from_names = [\n",
        "    f\"{sporsmal.find('ns:sporsmal_fra/ns:fornavn', ns).text} {sporsmal.find('ns:sporsmal_fra/ns:etternavn', ns).text}\"\n",
        "    for sporsmal in root.findall('.//ns:sporsmal', ns)\n",
        "]\n",
        "\n",
        "# Extract the <navn> element from <parti> (Party)\n",
        "parties = [\n",
        "    sporsmal.find('ns:sporsmal_fra/ns:parti/ns:navn', ns).text\n",
        "    for sporsmal in root.findall('.//ns:sporsmal', ns)\n",
        "]\n",
        "\n",
        "# Create a DataFrame with the extracted data\n",
        "df = pd.DataFrame({\n",
        "    'Question': questions,\n",
        "    'Question from': from_names,\n",
        "    'Party': parties\n",
        "})\n",
        "\n",
        "\n",
        "\n"
      ],
      "metadata": {
        "collapsed": true,
        "id": "A9AFW5q7vp5K"
      },
      "execution_count": null,
      "outputs": []
    },
    {
      "cell_type": "markdown",
      "source": [
        "Test to see if code worked"
      ],
      "metadata": {
        "id": "bUnCKOisAVUV"
      }
    },
    {
      "cell_type": "code",
      "source": [
        "print(df.head)"
      ],
      "metadata": {
        "colab": {
          "base_uri": "https://localhost:8080/"
        },
        "collapsed": true,
        "id": "yNItUGB1xaGV",
        "outputId": "35488338-e3c7-4d95-85fa-8ab098098560"
      },
      "execution_count": null,
      "outputs": [
        {
          "output_type": "stream",
          "name": "stdout",
          "text": [
            "<bound method NDFrame.head of                                               Question          Question from  \\\n",
            "0    Det brukes betydelige ressurser på å føre tils...        Hege Bae Nyholt   \n",
            "1    I februar spurte jeg statsråden om hvorvidt ut...     Sveinung Stensland   \n",
            "2    Den 21. september 2022 hadde statsråden et uts...            Ingunn Foss   \n",
            "3    I Hurdalsplattformen sier regjeringen: \"Klima ...          Sofie Marhaug   \n",
            "4    I over 400 dager har Olje- og energidepartemen...          Henrik Asheim   \n",
            "..                                                 ...                    ...   \n",
            "515  Det er nå ett år siden Høyesterett avsa en ens...          Ingrid Fiskaa   \n",
            "516  Det er nå ett år siden Høyesterett avsa en ens...         Kirsti Bergstø   \n",
            "517  Det er nå ett år siden Høyesterett avsa en ens...       Lars Haltbrekken   \n",
            "518  Fosen-dommen slo fast at staten braut menneske...  Birgit Oline Kjerstad   \n",
            "519  Senterpartiet har tidlegare forsøkt å framstå ...       Frank Edvard Sve   \n",
            "\n",
            "                         Party  \n",
            "0                         Rødt  \n",
            "1                        Høyre  \n",
            "2                        Høyre  \n",
            "3                         Rødt  \n",
            "4                        Høyre  \n",
            "..                         ...  \n",
            "515  Sosialistisk Venstreparti  \n",
            "516  Sosialistisk Venstreparti  \n",
            "517  Sosialistisk Venstreparti  \n",
            "518  Sosialistisk Venstreparti  \n",
            "519         Fremskrittspartiet  \n",
            "\n",
            "[520 rows x 3 columns]>\n"
          ]
        }
      ]
    },
    {
      "cell_type": "markdown",
      "source": [
        "How to refer to spesific Questions"
      ],
      "metadata": {
        "id": "IDWLCSuo9oP_"
      }
    },
    {
      "cell_type": "code",
      "source": [
        "print(questions[7])"
      ],
      "metadata": {
        "colab": {
          "base_uri": "https://localhost:8080/"
        },
        "id": "LMtPXq7YzURo",
        "outputId": "c1bf41aa-0aad-4666-b0e9-7795db887618"
      },
      "execution_count": null,
      "outputs": [
        {
          "output_type": "stream",
          "name": "stdout",
          "text": [
            "En ny forskningsrapport om transnasjonal undertrykkelse, bestilt av Arbeids- og inkluderingsdepartementet, viser at den norske regjeringen for tiden ikke prioriterer kampen mot transnasjonal undertrykkelse høyt. Rapporten peker på justis- og utenrikssektoren. Vi har altså eritreere, etiopiere, tsjetsjenere, tyrkere og uigurer som ikke lever frie liv i Norge, men blir utsatt for press og kontroll fra hjemlandet. Eritreere i Norge blir for eksempel pålagt å betale to prosent skatt til Eritrea. Innkrevingskontoret ligger i Karl Johans gate. \n",
            "Hvordan vil regjeringen beskytte norske innbyggere mot transnasjonal undertrykkelse?\n"
          ]
        }
      ]
    },
    {
      "cell_type": "markdown",
      "source": [
        "Need to add:\n",
        "\n",
        "---\n",
        "\n",
        "\n",
        "*   Change the API URL to relevent time horizon, right now it is 2022-2023.\n",
        "  *   Useful dataset could be between 1000 - 10000 rows maybe?\n",
        "*   Create connection to OpenAI API\n",
        "*   Loop for all the questions to feed into OpenAI API\n",
        "*   Give OpenAI promts to extract or interpret from the questions, this could be:\n",
        "  *   Topic: Economy, Military, Culture ect\n",
        "  *   Sentiment: Positive, Negative ect maybe a scale 1-10 or 0-1\n",
        "\n",
        "\n",
        "\n",
        "\n",
        "\n",
        "\n",
        "\n"
      ],
      "metadata": {
        "id": "jNbkYs5M9tLS"
      }
    },
    {
      "cell_type": "code",
      "source": [],
      "metadata": {
        "id": "myHI6zaeoWWR"
      },
      "execution_count": null,
      "outputs": []
    },
    {
      "cell_type": "markdown",
      "source": [
        "# **Code for OpenAI API**\n",
        "\n",
        "---\n",
        "\n"
      ],
      "metadata": {
        "id": "uomvHHY2HiiY"
      }
    },
    {
      "cell_type": "markdown",
      "source": [
        "Initial Setup: **You might need to change the names of the secret keys for this to run**"
      ],
      "metadata": {
        "id": "tsLB7l0Wnq5e"
      }
    },
    {
      "cell_type": "code",
      "source": [
        "client = AzureOpenAI(\n",
        "  azure_endpoint = \"https://gpt-api-education.openai.azure.com/\",\n",
        "  api_key=userdata.get(\"AZURE_OPENAI_API_KEY\"),\n",
        "  api_version=\"2024-02-15-preview\"\n",
        ")"
      ],
      "metadata": {
        "id": "o7AVYY77npm1"
      },
      "execution_count": null,
      "outputs": []
    },
    {
      "cell_type": "markdown",
      "source": [
        "Creating subset for testing purposes **Change the .head(n) for smaller/larger subset, remove for the entire dataset**"
      ],
      "metadata": {
        "id": "EdecEIGIMm_m"
      }
    },
    {
      "cell_type": "code",
      "source": [
        "subset_questions = df['Question'].head(50)"
      ],
      "metadata": {
        "id": "ZPc8uGd5Msg5"
      },
      "execution_count": null,
      "outputs": []
    },
    {
      "cell_type": "markdown",
      "source": [
        "Defining system and user promts. **Update this with desired prompts**"
      ],
      "metadata": {
        "id": "W7pi-22GHstl"
      }
    },
    {
      "cell_type": "code",
      "source": [
        "# Define the system prompt\n",
        "system_prompt = \"You are a political analyst, asked to gather insights from questions asked by parliament members.\"\n",
        "\n",
        "# Define user prompt templates for different analyses\n",
        "user_prompts = {\n",
        "    'topic_classification': \"\"\"\n",
        "{question}\n",
        "\n",
        "Classify the previous question by the topic of discussion.\n",
        "\n",
        "Possible topics could include: Economy, Culture, Education, Energy, Defence, Climate, etc.\n",
        "\n",
        "Please provide only the topic.\n",
        "\n",
        "Only use more than one topic if absolutly necessary, however if more than one topic is applicable, please provide them in a comma-separated list.\n",
        "\n",
        "An example could be:\n",
        "\n",
        "Question:\n",
        "\n",
        "Forsvarskommisjonen av 2021 – Forsvar for fred og frihet foreslår forsvarskommisjonen tre løft for å møte sikkerhetssituasjonen de neste 10–20 årene.\n",
        "Under overskriften \"Løft 1 – kritiske tiltak for å styrke egenevnen\" nevnes behovet for rask oppgradering av luftvern og utdanningskapasitet.\n",
        "Under løft 2 og 3 nevnes behov for mer personell i hele Forsvaret, en større hær og lagdelt, inkludert langtrekkende,\n",
        "luftvernbeskyttelse rundt blant annet Oslo, Bergen og Trondheim. Hvordan vil statsråden følge opp disse anbefalingene?\n",
        "\n",
        "Response:\n",
        "\n",
        "Defence\n",
        "\"\"\",\n",
        "    'sentiment_analysis': \"\"\"\n",
        "{question}\n",
        "\n",
        "Classify the sentiment of the previous question on a scale from 1 to 10, with 1 being very negative, 5 being neutral, and 10 being very positive.\n",
        "\n",
        "Provide only the numerical score.\n",
        "\"\"\"\n",
        "}\n"
      ],
      "metadata": {
        "id": "JOsRR6B-HqaV"
      },
      "execution_count": null,
      "outputs": []
    },
    {
      "cell_type": "markdown",
      "source": [
        "Define Analysis Types. **Update this with the names of the desired prompts**"
      ],
      "metadata": {
        "id": "vQI9S_8sJIaM"
      }
    },
    {
      "cell_type": "code",
      "source": [
        "# Define the analysis types you want to perform\n",
        "analysis_types = ['topic_classification', 'sentiment_analysis']\n"
      ],
      "metadata": {
        "id": "Zfko1l98JLHT"
      },
      "execution_count": null,
      "outputs": []
    },
    {
      "cell_type": "markdown",
      "source": [
        "Define Parameters for the API request. **Update this if needed**"
      ],
      "metadata": {
        "id": "I2h9vNWSikb0"
      }
    },
    {
      "cell_type": "code",
      "source": [
        "# Define the default API parameters\n",
        "api_params = {\n",
        "    'temperature': 0.1,\n",
        "    'max_tokens': 100,\n",
        "    'top_p': 1,\n",
        "    'stream': False,\n",
        "    'stop': None,\n",
        "}\n"
      ],
      "metadata": {
        "id": "TYPFVGUdi7Et"
      },
      "execution_count": null,
      "outputs": []
    },
    {
      "cell_type": "markdown",
      "source": [
        "Reusable Function for API calls"
      ],
      "metadata": {
        "id": "BHPb3s0aIBon"
      }
    },
    {
      "cell_type": "code",
      "source": [
        "def analyze_question(question, analysis_type):\n",
        "    # Select the appropriate user prompt template\n",
        "    user_prompt = user_prompts[analysis_type].format(question=question)\n",
        "\n",
        "    # Prepare the request body\n",
        "    request_body = [\n",
        "        {\n",
        "            \"role\": \"system\",\n",
        "            \"content\": system_prompt\n",
        "        },\n",
        "        {\n",
        "            \"role\": \"user\",\n",
        "            \"content\": user_prompt\n",
        "        },\n",
        "    ]\n",
        "\n",
        "    # Call the OpenAI API\n",
        "    try:\n",
        "        response = client.chat.completions.create(\n",
        "            model=\"GPT4-API\",\n",
        "            messages=request_body,\n",
        "            **api_params\n",
        "        )\n",
        "\n",
        "        # Extract the content from the response\n",
        "        result = response.choices[0].message.content.strip()\n",
        "        return result\n",
        "    except Exception as e:\n",
        "        print(f\"Error analyzing question: {e}\")\n",
        "        return None\n"
      ],
      "metadata": {
        "id": "bAS9oOvOIFFa"
      },
      "execution_count": null,
      "outputs": []
    },
    {
      "cell_type": "markdown",
      "source": [
        "Loop for API calls. Depending on the size of the subsample **This can take a while**"
      ],
      "metadata": {
        "id": "uebzgGRKJ1N-"
      }
    },
    {
      "cell_type": "code",
      "source": [
        "# Initialize a dictionary to store results\n",
        "results = {analysis_type: [] for analysis_type in analysis_types}\n",
        "\n",
        "# Loop through each question with its index\n",
        "for idx, question in subset_questions.items():\n",
        "    # Dictionary to hold results for the current question\n",
        "    analysis_results = {}\n",
        "\n",
        "    # Perform each analysis\n",
        "    for analysis_type in analysis_types:\n",
        "        # Perform analysis\n",
        "        result = analyze_question(question, analysis_type)\n",
        "\n",
        "        # Store the result\n",
        "        analysis_results[analysis_type] = result\n",
        "\n",
        "    # Assign results to the DataFrame\n",
        "    for analysis_type, result in analysis_results.items():\n",
        "        df.at[idx, analysis_type] = result\n"
      ],
      "metadata": {
        "id": "S2n9HRf2J3ql",
        "colab": {
          "base_uri": "https://localhost:8080/"
        },
        "outputId": "854f90db-54c6-4c6d-8fc5-0d0beffbcae3"
      },
      "execution_count": null,
      "outputs": [
        {
          "output_type": "stream",
          "name": "stderr",
          "text": [
            "<ipython-input-42-6daed2891519>:19: FutureWarning: Setting an item of incompatible dtype is deprecated and will raise an error in a future version of pandas. Value '3' has dtype incompatible with float64, please explicitly cast to a compatible dtype first.\n",
            "  df.at[idx, analysis_type] = result\n"
          ]
        }
      ]
    },
    {
      "cell_type": "code",
      "source": [
        "print(df.loc[subset_questions.index])"
      ],
      "metadata": {
        "colab": {
          "base_uri": "https://localhost:8080/"
        },
        "collapsed": true,
        "id": "XS0NfKLfMB75",
        "outputId": "40a20bb8-1e83-47e0-b0d9-9e5db865ce63"
      },
      "execution_count": null,
      "outputs": [
        {
          "output_type": "stream",
          "name": "stdout",
          "text": [
            "                                             Question  \\\n",
            "0   Det brukes betydelige ressurser på å føre tils...   \n",
            "1   I februar spurte jeg statsråden om hvorvidt ut...   \n",
            "2   Den 21. september 2022 hadde statsråden et uts...   \n",
            "3   I Hurdalsplattformen sier regjeringen: \"Klima ...   \n",
            "4   I over 400 dager har Olje- og energidepartemen...   \n",
            "5   Et regjeringsnedsatt utvalg skal vurdere om po...   \n",
            "6   Statsminister Jonas Gahr Støre deltok 16. mai ...   \n",
            "7   En ny forskningsrapport om transnasjonal under...   \n",
            "8    En god skole er det viktigste  vi som samfunn...   \n",
            "9    I budsjettet i høst  kom regjeringen med stor...   \n",
            "10   Noreg har ein forpliktande  klimaavtale med E...   \n",
            "11   Jeg vil begynne med å  gratulere statsministe...   \n",
            "12   Sist helg hadde Arbeiderpartiet  landsmøte. J...   \n",
            "13   Siden statsministeren tiltrådte,  har behandl...   \n",
            "14   I morgen kommer revidert nasjonalbudsjett,  o...   \n",
            "15  I NOU 2023: 14 Forsvarskommisjonen av 2021 – F...   \n",
            "16  Stortinget har vedtatt å innføre et voksenvaks...   \n",
            "17  Et ekspertutvalg har anbefalt regjeringen å ta...   \n",
            "18  Utvikling av næringslivet på Svalbard er svært...   \n",
            "19  Andelen innleie i Norge er under 2 pst. av arb...   \n",
            "20  Stortingsrepresentant Trygve Slagsvold Vedum l...   \n",
            "21  Under koronapandemien var det offentlige helse...   \n",
            "22  I statsbudsjettet for 2023 bevilget regjeringe...   \n",
            "23  Årets konjunkturrapport fra Norsk Industri vis...   \n",
            "24  Havbunnen utenfor Norge har mineraler nok til ...   \n",
            "25  Arbeidslinja må ligge fast, det skal alltid lø...   \n",
            "26  Statsråden svarte meg den 26. april på mitt sk...   \n",
            "27  I NHOs årlige kompetansebarometer sier 65 pst....   \n",
            "28  Nylig kunne vi lese i VG at norske midler til ...   \n",
            "29  I regjeringens handlingsplan mot sosial dumpin...   \n",
            "30  Er statsråden bekymret for at usikkerheten reg...   \n",
            "31  Dagleg leiar i Eid Elektro slår i Elektro 24-7...   \n",
            "32   En av de store utfordringene  framover er man...   \n",
            "33   Miljøteknologiordningen:  Statsråd Skjæran ha...   \n",
            "34   Miljøteknologiordningen  ble foreslått av reg...   \n",
            "35   I 2019 kom Riksrevisjonen  med sin rapport om...   \n",
            "36   Jeg vil stille følgende spørsmål  til barne- ...   \n",
            "37   Mitt spørsmål går til barne-  og familieminis...   \n",
            "38   Mitt spørsmål går til forsknings-  og høyere ...   \n",
            "39  Eiendom Norge sin utleieprisstatistikk fra 18....   \n",
            "40  Statsråden svarte meg den 26. april på mitt sk...   \n",
            "41  I jordbrukets klimaavtale forplikter staten se...   \n",
            "42  I Chile profiterer Statkraft på energipolitikk...   \n",
            "43  Helse- og omsorgsministeren opplyste følgende ...   \n",
            "44  I klimaavtalen mellom regjeringa og landbruket...   \n",
            "45  Kan klima- og miljøministeren bekrefte at Land...   \n",
            "46  Regjeringen har satt ned et strømprisutvalg so...   \n",
            "47  Riksrevisjonen har besluttet å granske Helsepl...   \n",
            "48  I en verden med behov for rask omstilling og n...   \n",
            "49  Det utvidede reklameforbudet for utenlandske s...   \n",
            "\n",
            "              Question from                      Party  \\\n",
            "0           Hege Bae Nyholt                       Rødt   \n",
            "1        Sveinung Stensland                      Høyre   \n",
            "2               Ingunn Foss                      Høyre   \n",
            "3             Sofie Marhaug                       Rødt   \n",
            "4             Henrik Asheim                      Høyre   \n",
            "5            Sandra Bruflot                      Høyre   \n",
            "6              Fredrik Holm                      Høyre   \n",
            "7             Ola Elvestuen                    Venstre   \n",
            "8           Jan Tore Sanner                      Høyre   \n",
            "9    Olaug Vervik Bollestad       Kristelig Folkeparti   \n",
            "10        Sveinung Rotevatn                    Venstre   \n",
            "11       Mímir Kristjánsson                       Rødt   \n",
            "12           Kirsti Bergstø  Sosialistisk Venstreparti   \n",
            "13             Bård Hoksrud         Fremskrittspartiet   \n",
            "14             Erna Solberg                      Høyre   \n",
            "15           Bjørnar Moxnes                       Rødt   \n",
            "16       Erlend Svardal Bøe                      Høyre   \n",
            "17      Helge André Njåstad         Fremskrittspartiet   \n",
            "18     Bengt Rune Strifeldt         Fremskrittspartiet   \n",
            "19             Anna Molberg                      Høyre   \n",
            "20           Roy Steffensen         Fremskrittspartiet   \n",
            "21             Bård Hoksrud         Fremskrittspartiet   \n",
            "22            Sofie Marhaug                       Rødt   \n",
            "23          Terje Halleland         Fremskrittspartiet   \n",
            "24      Marius Arion Nilsen         Fremskrittspartiet   \n",
            "25     Dagfinn Henrik Olsen         Fremskrittspartiet   \n",
            "26          Margret Hagerup                      Høyre   \n",
            "27          Himanshu Gulati         Fremskrittspartiet   \n",
            "28     Tobias Drevland Lund                       Rødt   \n",
            "29      Aleksander Stokkebø                      Høyre   \n",
            "30         Sivert Bjørnstad         Fremskrittspartiet   \n",
            "31       Alfred Jens Bjørlo                    Venstre   \n",
            "32           Tage Pettersen                      Høyre   \n",
            "33     Bengt Rune Strifeldt         Fremskrittspartiet   \n",
            "34  Linda Hofstad Helleland                      Høyre   \n",
            "35           Geir Jørgensen                       Rødt   \n",
            "36                Kathy Lie  Sosialistisk Venstreparti   \n",
            "37            Silje Hjemdal         Fremskrittspartiet   \n",
            "38          Margret Hagerup                      Høyre   \n",
            "39     Tobias Drevland Lund                       Rødt   \n",
            "40          Margret Hagerup                      Høyre   \n",
            "41           Rasmus Hansson     Miljøpartiet De Grønne   \n",
            "42           Geir Jørgensen                       Rødt   \n",
            "43                Emma Lind                    Venstre   \n",
            "44       Alfred Jens Bjørlo                    Venstre   \n",
            "45            Ola Elvestuen                    Venstre   \n",
            "46           Bjørnar Moxnes                       Rødt   \n",
            "47             Bård Hoksrud         Fremskrittspartiet   \n",
            "48            Svein Harberg                      Høyre   \n",
            "49         Turid Kristensen                      Høyre   \n",
            "\n",
            "                                topic_classification sentiment_analysis  \n",
            "0                                          Education                  3  \n",
            "1                                            Defence                  5  \n",
            "2                                    Justice, Safety                  3  \n",
            "3                                            Climate                  3  \n",
            "4                                    Energy, Economy                  5  \n",
            "5                          Law & Order, Drugs Policy                  5  \n",
            "6   Democracy, Human Rights, International Relations                  5  \n",
            "7                      Foreign Affairs, Human Rights                  2  \n",
            "8                                          Education                  3  \n",
            "9                        Healthcare, Social Services                  1  \n",
            "10                                           Climate                  2  \n",
            "11                                           Economy                  3  \n",
            "12                            Economy, Social Policy                  3  \n",
            "13                         Healthcare, Mental Health                  1  \n",
            "14                                           Economy                  2  \n",
            "15                                           Defence                  5  \n",
            "16                                        Healthcare                  3  \n",
            "17                                           Economy                  2  \n",
            "18                                           Economy                  5  \n",
            "19                                           Economy                  3  \n",
            "20                                           Economy                  5  \n",
            "21                                        Healthcare                  5  \n",
            "22                                   Energy, Economy                  5  \n",
            "23                                   Energy, Economy                  2  \n",
            "24                                   Energy, Economy                  5  \n",
            "25                                Economy, Education                  5  \n",
            "26                                           Economy                  3  \n",
            "27                                           Economy                  3  \n",
            "28                              Foreign Aid, Defence                  3  \n",
            "29                                           Economy                  5  \n",
            "30                                           Economy                  2  \n",
            "31                                           Economy                  3  \n",
            "32                                         Education                  2  \n",
            "33                              Environment, Economy                  2  \n",
            "34                              Environment, Economy                  3  \n",
            "35                                           Economy                  5  \n",
            "36                                Economy, Education                  3  \n",
            "37                           Health, Social Services                  1  \n",
            "38                                         Education                  3  \n",
            "39                                           Economy                  2  \n",
            "40                                           Economy                  5  \n",
            "41                              Climate, Agriculture                  4  \n",
            "42                              Energy, Human Rights                  3  \n",
            "43                                            Health                  5  \n",
            "44                              Climate, Agriculture                  5  \n",
            "45                                           Climate                  5  \n",
            "46                                   Energy, Economy                  3  \n",
            "47                                        Healthcare                  2  \n",
            "48                                 Education, Energy                  3  \n",
            "49                                           Economy                  5  \n"
          ]
        }
      ]
    },
    {
      "cell_type": "markdown",
      "source": [
        "#  **Plotting some data**\n",
        "\n",
        "---\n",
        "\n"
      ],
      "metadata": {
        "id": "yyUhURxqXTh2"
      }
    },
    {
      "cell_type": "code",
      "source": [
        "df['sentiment_analysis'] = pd.to_numeric(df['sentiment_analysis'], errors='coerce')"
      ],
      "metadata": {
        "id": "E8DoZ1zsXVba"
      },
      "execution_count": null,
      "outputs": []
    },
    {
      "cell_type": "code",
      "source": [
        "# Group by 'Party' and calculate the mean sentiment score\n",
        "mean_sentiment_by_party = df.groupby('Party')['sentiment_analysis'].mean().reset_index()"
      ],
      "metadata": {
        "id": "t9z8PIJIX1KV"
      },
      "execution_count": null,
      "outputs": []
    },
    {
      "cell_type": "code",
      "source": [
        "# Set the size of the plot (optional)\n",
        "plt.figure(figsize=(10, 6))\n",
        "\n",
        "# Create the bar chart\n",
        "plt.bar(mean_sentiment_by_party['Party'], mean_sentiment_by_party['sentiment_analysis'], color='skyblue')\n",
        "\n",
        "# Add labels and title\n",
        "plt.xlabel('Party')\n",
        "plt.ylabel('Mean Sentiment Analysis Score')\n",
        "plt.title('Mean Sentiment Analysis Score by Party')\n",
        "\n",
        "# Rotate x-axis labels if necessary\n",
        "plt.xticks(rotation=45)\n",
        "\n",
        "# Display the plot\n",
        "plt.tight_layout()\n",
        "plt.show()"
      ],
      "metadata": {
        "colab": {
          "base_uri": "https://localhost:8080/",
          "height": 607
        },
        "id": "U9yyYu2jX7BJ",
        "outputId": "66716ee7-4a6c-40dd-dab1-709e0b831845"
      },
      "execution_count": null,
      "outputs": [
        {
          "output_type": "display_data",
          "data": {
            "text/plain": [
              "<Figure size 1000x600 with 1 Axes>"
            ],
            "image/png": "[encoded data removed]"
          },
          "metadata": {}
        }
      ]
    },
    {
      "cell_type": "markdown",
      "source": [
        "We see here that every single party has a negativity bias. Perhaps we need to look more into our data source"
      ],
      "metadata": {
        "id": "6YbU8us4g8lx"
      }
    },
    {
      "cell_type": "code",
      "source": [
        "subset_indices = subset_questions.index\n",
        "subset_df = df.loc[subset_indices]\n",
        "\n",
        "subset_df['topic_list'] = subset_df['topic_classification'].str.split(',')\n",
        "subset_df_exploded = subset_df.explode('topic_list')\n",
        "subset_df_exploded['topic_list'] = subset_df_exploded['topic_list'].str.strip()\n",
        "subset_df_exploded = subset_df_exploded.dropna(subset=['topic_list'])\n",
        "\n",
        "# Get unique topics in the subset\n",
        "unique_topics_subset = subset_df_exploded['topic_list'].unique()\n",
        "print(\"Unique topics in the subset:\")\n",
        "print(unique_topics_subset)\n",
        "\n",
        "# Get counts of each topic in the subset\n",
        "topic_counts_subset = subset_df_exploded['topic_list'].value_counts()\n",
        "print(\"\\nTopic counts in the subset:\")\n",
        "print(topic_counts_subset)"
      ],
      "metadata": {
        "colab": {
          "base_uri": "https://localhost:8080/"
        },
        "id": "y1Q4Vkz4gHOP",
        "outputId": "147e83dc-870f-4b97-d479-2e2da6219f18"
      },
      "execution_count": null,
      "outputs": [
        {
          "output_type": "stream",
          "name": "stdout",
          "text": [
            "Unique topics in the subset:\n",
            "['Education' 'Defence' 'Justice' 'Safety' 'Climate' 'Energy' 'Economy'\n",
            " 'Law & Order' 'Drugs Policy' 'Democracy' 'Human Rights'\n",
            " 'International Relations' 'Foreign Affairs' 'Healthcare'\n",
            " 'Social Services' 'Social Policy' 'Mental Health' 'Foreign Aid'\n",
            " 'Environment' 'Health' 'Agriculture']\n",
            "\n",
            "Topic counts in the subset:\n",
            "topic_list\n",
            "Economy                    25\n",
            "Education                   7\n",
            "Energy                      7\n",
            "Healthcare                  5\n",
            "Climate                     5\n",
            "Defence                     3\n",
            "Human Rights                3\n",
            "Social Services             2\n",
            "Environment                 2\n",
            "Health                      2\n",
            "Agriculture                 2\n",
            "Law & Order                 1\n",
            "Drugs Policy                1\n",
            "Democracy                   1\n",
            "Safety                      1\n",
            "International Relations     1\n",
            "Foreign Affairs             1\n",
            "Justice                     1\n",
            "Social Policy               1\n",
            "Mental Health               1\n",
            "Foreign Aid                 1\n",
            "Name: count, dtype: int64\n"
          ]
        }
      ]
    },
    {
      "cell_type": "markdown",
      "source": [
        "We can see that some of the topics are the same but spelled or worded differently, for example \"Law & Order\" and \"Law and Order\". Need to refine this somehow, maybe sending it again through chatgpt to group similar topics.\n"
      ],
      "metadata": {
        "id": "2tXMuyD_ggnZ"
      }
    }
  ]
}